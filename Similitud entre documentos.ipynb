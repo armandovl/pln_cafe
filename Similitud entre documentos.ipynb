{
 "cells": [
  {
   "cell_type": "code",
   "execution_count": 1,
   "metadata": {},
   "outputs": [],
   "source": [
    "from sklearn.feature_extraction.text import TfidfVectorizer\n",
    "from sklearn.metrics.pairwise import cosine_similarity\n",
    "import matplotlib.pyplot as plt\n",
    "import os\n",
    "import numpy as np\n",
    "from sklearn.feature_extraction.text import CountVectorizer\n",
    "from sklearn.metrics.pairwise import euclidean_distances\n",
    "from sklearn.manifold import MDS\n",
    "from mpl_toolkits.mplot3d import Axes3D\n",
    "from scipy.cluster.hierarchy import ward, dendrogram\n",
    "from sklearn import metrics\n",
    "from nltk.corpus import stopwords\n",
    "import math\n",
    "from sklearn import manifold\n",
    "import scipy"
   ]
  },
  {
   "cell_type": "code",
   "execution_count": 19,
   "metadata": {},
   "outputs": [
    {
     "name": "stdout",
     "output_type": "stream",
     "text": [
      "Programa que muestra ejemplos gráficos con Machine Learning\n",
      "Opciones:\n",
      "1.Impresión de similitud de documentos por método de coseno (Intersección de circunferencias)\n",
      "2.Clustering de distancia entre documntos\n",
      "3.Clustering de documentos en 3D\n",
      "4.Similitud entre documentos (Dibujar distancia entre ellos)\n",
      "1\n",
      "Corroborar tamaño de la matriz Documentos vs Términos\n",
      "(8, 5248)\n",
      "Obteniendo similitud de coseno entre 2 documentos (si son iguales el valor es 1)\n",
      "[[0.98316399]]\n",
      "Cálculo de distancia\n",
      "[[0.01683601]]\n",
      "Ángulo de separación de los documentos (grados)\n",
      "10.528546369768543\n",
      "Área de gráficos\n",
      "Similitud entre documentos (Dibujar distancia entre ellos)\n",
      "Inicio\n"
     ]
    },
    {
     "data": {
      "image/png": "[encoded data removed]",
      "text/plain": [
       "<Figure size 432x288 with 1 Axes>"
      ]
     },
     "metadata": {
      "needs_background": "light"
     },
     "output_type": "display_data"
    },
    {
     "name": "stdout",
     "output_type": "stream",
     "text": [
      "Fin\n"
     ]
    }
   ],
   "source": [
    "def ejecutarPrograma(opcion):\n",
    "   \n",
    "   '''\n",
    "   Pasar archivos a una lista\n",
    "   '''\n",
    "   path='C:/Users/Armando/Desktop/prueba2'\n",
    "   documents = [] #los ordena por nombre\n",
    "   titles=[]\n",
    "   dirs = os.listdir(path)\n",
    "   for doc in dirs:\n",
    "       if doc.endswith('.txt'):\n",
    "           titles.append(doc)\n",
    "           f=open(os.path.join(path,doc),'r')\n",
    "           words = f.read()\n",
    "           documents.append(words)\n",
    "           f.close()\n",
    "\n",
    "\n",
    "   #Genera stopwords\n",
    "   sw=stopwords.words('spanish')\n",
    "\n",
    "\n",
    "   #Crea los vectores ya sin stopwords y genera matriz tf-idf\n",
    "   tfidf_vectorizer = TfidfVectorizer(sw)\n",
    "   tfidf_matrix = tfidf_vectorizer.fit_transform(documents)\n",
    "\n",
    "   #Se crea diccionario\n",
    "   diccionario = tfidf_vectorizer.get_feature_names()\n",
    "\n",
    "   print\n",
    "   print ('Corroborar tamaño de la matriz Documentos vs Términos')\n",
    "   print (tfidf_matrix.shape)\n",
    "   print\n",
    "\n",
    "\n",
    "   print\n",
    "   print ('Obteniendo similitud de coseno entre 2 documentos (si son iguales el valor es 1)')\n",
    "   cosine=cosine_similarity(tfidf_matrix[1:2], tfidf_matrix[2:3])\n",
    "   print (cosine)\n",
    "   print ('Cálculo de distancia')\n",
    "   dist = 1 - cosine\n",
    "   print (dist)\n",
    "   print\n",
    "   print ('Ángulo de separación de los documentos (grados)')\n",
    "   angle_in_radians = math.acos(cosine)\n",
    "   print (math.degrees(angle_in_radians))\n",
    "   print\n",
    "   print ('Área de gráficos')\n",
    "   print\n",
    "   dist = 1 - cosine_similarity(tfidf_matrix)\n",
    "   np.round(dist, 2)\n",
    "   if opcion==1:\n",
    "       print ('Inicio')\n",
    "       print ('Impresión de similitud de documentos por método de coseno')\n",
    "       r = 1\n",
    "       d = 2 * r * (1 - cosine)\n",
    "       circle1=plt.Circle((0, 0), r, alpha=.5)\n",
    "       circle2=plt.Circle((d, 0), r, alpha=.5)\n",
    "       ## set axis limits\n",
    "       plt.ylim([-1.1, 1.1])\n",
    "       plt.xlim([-1.1, 1.1 + d])\n",
    "       fig = plt.gcf()\n",
    "       fig.gca().add_artist(circle1)\n",
    "       fig.gca().add_artist(circle2)\n",
    "       print ('Fin')\n",
    "   elif opcion==2:\n",
    "       print ('Inicio')\n",
    "       print ('Clustering de distancia entre documntos')\n",
    "       mds = MDS(n_components=2, dissimilarity=\"precomputed\", random_state=1)\n",
    "       pos = mds.fit_transform(dist)  # shape (n_components, n_samples)\n",
    "       xs, ys = pos[:, 0], pos[:, 1]\n",
    "       names = [os.path.basename(fn).replace('.txt', '') for fn in titles]\n",
    "       # color-blind-friendly palette\n",
    "       for x, y, name in zip(xs, ys, names):\n",
    "          color = 'orange' if \"d1\" in name else 'blue'\n",
    "          plt.scatter(x, y, c=color)\n",
    "          plt.text(x, y, name)\n",
    "       plt.show()\n",
    "       print ('Fin')\n",
    "   elif opcion==3:\n",
    "       print ('Inicio')\n",
    "       print ('Clustering de documentos en 3D')\n",
    "       mds = MDS(n_components=3, dissimilarity=\"precomputed\", random_state=1)\n",
    "       pos = mds.fit_transform(dist)\n",
    "       fig = plt.figure()\n",
    "       ax = fig.add_subplot(111, projection='3d')\n",
    "       ax.scatter(pos[:, 0], pos[:, 1], pos[:, 2])\n",
    "       for x, y, z, s in zip(pos[:, 0], pos[:, 1], pos[:, 2], titles):\n",
    "           ax.text(x, y, z, s)\n",
    "       plt.show()\n",
    "       print ('Fin')\n",
    "   else:\n",
    "       print ('Similitud entre documentos (Dibujar distancia entre ellos)')\n",
    "       print ('Inicio')\n",
    "       linkage_matrix = ward(dist)\n",
    "       dendrogram(linkage_matrix, orientation=\"right\", labels=titles)\n",
    "       plt.tight_layout()\n",
    "       plt.show()\n",
    "       print ('Fin')\n",
    "\n",
    "\n",
    "print ('Programa que muestra ejemplos gráficos con Machine Learning')\n",
    "print ('Opciones:')\n",
    "print ('1.Impresión de similitud de documentos por método de coseno (Intersección de circunferencias)')\n",
    "print ('2.Clustering de distancia entre documntos')\n",
    "print ('3.Clustering de documentos en 3D')\n",
    "print ('4.Similitud entre documentos (Dibujar distancia entre ellos)')\n",
    "opcion=input()\n",
    "\n",
    "ejecutarPrograma(opcion)"
   ]
  },
  {
   "cell_type": "code",
   "execution_count": 15,
   "metadata": {},
   "outputs": [],
   "source": [
    "   path='C:/Users/Armando/Desktop/prueba2'\n",
    "   documents = []\n",
    "   titles=[]\n",
    "   dirs = os.listdir(path)\n",
    "   for doc in dirs:\n",
    "       if doc.endswith('.txt'):\n",
    "           titles.append(doc)\n",
    "           f=open(os.path.join(path,doc),'r')\n",
    "           words = f.read()\n",
    "           documents.append(words)\n",
    "           f.close()"
   ]
  },
  {
   "cell_type": "code",
   "execution_count": 17,
   "metadata": {},
   "outputs": [
    {
     "data": {
      "text/plain": [
       "'El frasco llego quebrado.\\nNunca llego a mi casa.\\nApenas y sabe a café, muy maldito...\\nEl sabor es muy malo. Muy artificial.\\nLlega en muy mal estado, el frasco quebrado. Aparte no hay devolución.\\nAl final me hicieron devolución  pero igual me quedé sin mi café.\\nNo me gustó el sabor de caramelo, cuestión de gustos, el precio bien.\\nPésima la logistica de envíos, el producto está roto y no hay devolución.\\nEl frasco me llegó todo roto de un lateral y no me permite devolverlo.\\nPésimo servicio, no me llegó el producto pedí etiqueta roja y me llegó verde.Pésimo servicio.\\nTerrible el empaque, llego quebrado el frasco y imposible rescatar el vafe con tanto vidrio.\\nEn la publicación muestran una presentación de 100gr y me llego uno de 48gr.!! pésimo servicio.\\nCompre tres piezas y una venía abierta sin el sello de calidad. Amazon no me permitió la devolución.\\nCambio muchísimo el sabor.No es sabroso, incluso el olor del café es diferente al que probé la primera vez.\\nNo se supone que si compro 4 me deben llegar 6 por la promoción de 3x2?Solo recibí 4 unidades.\\nEl producto llegó quebrado, será porque no está bien empacado y los de la paquetería no tienen cuidado al transportarlo.\\nLlego todo roto, me llego la bolsa con todo el café regado por dentro y cristales saliendo de la bolsa.\\nEl café es muy bueno, sin embargo los métodos de empaque de Amazon, dejan mucho que desear (el frasco llegó roto).\\nProducto solicitado , ya paso la fecha estimada , aún no lo recibo y no tengo ninguna notificación explicando porque no llega.\\nTenia muchas expectativas; solo es endulzante sabor a piloncillo y canela; por lo consiguiente no ofrece un sabor a Café de Olla.\\nLlegó con el sello de protección abierto, como si hubieran sacado café.  No hay devolución, del sabor no sé, no lo voy a consumir.\\nMe cobraron 116 pesos por un producto 100g y me llegó uno de 48g.Quería hacer la devolución y ni se pudo.No lo compren, no lo recomiendo.\\nMi pedido incluye 4 frascos, ninguno venia protegido con plastico o carton. Uno de los frascos esta desfondado y perdí todo el contenido de un frasco.\\nCreo que para mandar productos en envase de vidrio se debería de proteger con algún tipo de plastico para evitar este tipo de accidentes, muy mal ahí.\\nEl empaque de la  paqueteria sellado sin desperfectos , sin embargo, al abrir la tapa  del cafe, el sello de seguridad violado como se ve en las fotos.\\nDesde que lo destapas te das cuenta que no es bueno, no huele nada a café, es un aroma a caramelo quemado. Lástima, por el nombre tradicional esperaba un buen producto.\\nMi mercancia Lego con 1 frasco quebrado, por estar mal empacado y/o mal manipulado.Y para colmo, este articulo no cuenta con cambios o devolucion.No recomiendo compar Nada que venga con Cristal.\\nNo me ha llegado aún y no me deja cancelar ya que la página dice que perderé beneficios y descuentos ya obtenidos.Que puedo hacer si el vendedor aun me tiene en espera?.\\nPESIMO SERVICIO, en la imagen se muestra el café con etiqueta roja y me mandaron el VERDE lo peor es que no puedo DEVOLVERLO.  Por favor no compren con este proveedor.\\nQuise comprar el proucto de la foto, pero me llego otro, y ahora no puedo hacer la devoluvion porque el produto no es elegible. NO LO COMPREN ESTE PRODUCTO!!!! ES UNA ESTAFA.\\nEs café soluble con caramelo sabor canela y piloncillo, optaré por el proceso tradicional para un café de olla. Ansío que la fórmula vaya mejorando para poder acceder a un café de olla más rápido.\\nMe entregaron el frasco hecho pedazos. Mi hijo por poco se corta, al sacarlo del empaque en el que venia cayeron los pedazos de vidrio por todas partes. Un fiasco total, ni siquiera pude probar el producto.\\nEl producto estaba en promoción, pero hubiera preferido pagar su precio normal, ya que lo que llegó estaba pronto a caducar, tenía un aroma a humedad y no estaba en condiciones de ser consumido, desaforadamente se tuvo que desechar.\\nEl sabor es bueno y hasta ahí.  Pero mi mala calificación es por e empaque.  NADA para tico ya que e café viene súper pulverizado y es imposible poder medir las cucharadas con esa salida del empaque.\\nLa descripción del producto no corresponde, indican 6x16 bolsas y solo es una caja de 16 bolsas, además de que el peso del producto te hace pensar que si son 6 cajas de 16 bolsas cada una. Es un producto muy caro.\\nEs un café con aromas bastantes ligeros, que cuando se mezcla con agua pierde totalmente ese aroma. Su sabor es amargo pero da la impresión de que ese sabor sea por quemar azúcar y revolverlo. No se asemeja al que venden en el restaurante. Afortunadamente compre uno pequeño para probar.\\nSoy fanatico del cafe de olla, este cafe lo prepare como dice 150 ml de agua caliente y una cucharadita de cafe y resulto algo muy desagradable, lo intente tres veces con diferentes medidas de cafe y el resultado siempre fue el mismo, muy desagradable el sabor, no lo recomiendo para nada.\\nLa primera vez que me llego , excelentemente empacado y el frasco sellado ; la última ocasión el frasco bien empaquetado, sin embargo el frasco su sello de fábrica abierto con evidencia de sustracción del producto en una porción pequeña , pero al tratarse de un alimento es inapropiado enviarlo sin su sello de origen .\\nEl café de la parroquia es uno de los mejores a nivel mundial, tanto el café servido en los restaurantes como el molido vendido en supermercados. Sin embargo el café soluble deja mucho que desear, no tiene la misma intensidad de sabor ni de olor. Deben trabajar más en sus procesos para hacerlo soluble de muy buena calidad.\\nCompré 2 frascos, uno lo recibí incompleto (menos de 2/3 partes del frasco), a pesar de que ambos estaban sellados con el plástico de garantía y este no presentaba daños. Otra razón por la que devolveré el producto es porque ambos frascos presentan diferente tonalidad del producto (café soluble) y por otro lado, ambos frascos están caducados y presentan el mismo lote en la etiqueta.\\nAl igual que otras opiniones, deberían de reconsiderar la manera de empaquetado del envase, pues en mi caso también me llegó roto porque fue enviado en un sobre sin la minima protección. Intentare hacer el reembolso.Edit: Ya vi y de acuerdo a las políticas de reembolso, no es posible realizarse en este producto. Me arriesgué y perdí 52 pesos, no recomendaría comprarlo por este medio.Edit2: Me puse en contacto con el servicio a cliente y si me reembolsaron el pedido. Quedó resuelto.\\nEl día martes 16/06/2020 recibí el café de la parroquia de 100 g. el cual venía con el sello de garantía dañado, al revisar el contenido observé que parte del producto (en la base) venía solidificado e incluso se ve con moho, hice un nuevo pedido del mismo producto para comparar y el que recibí el día 18/06/2020 está con el sello de garantía en perfecto estado e incluso el total de café está en polvo sin rastros de estar adherido al frasco de vidrio. Me comuniqué con Amazon para indicarles lo ocurrido y me dieron una atención de calidad, esto para que no ocurra de nuevo y se puedan revisar los sellos de garantía de los productos.\\nMe enviaron el regular no el descafeinado! Hay otros comentarios con el mismo problema y no es posible que no corrijan el error!!!!.\\nHola! Buenas tardes!...Me llegó a tiempo, gracias! pero ME LLEGÓ LA PRESENTACIÓN DESCAFEINADA 100 grs. (etiqueta verde) y SOLICITE LA PRESENTACIÓN 100 GRS. NECESITO REGRESARLO, pero me aparece que no lo puedo devolver...Por favor su apoyo...Gracias!.\\nEVITEN COMPRAR ÉSTE TIPO DE PRODUCTOS QUE BIEN LOS PUEDEN CONSEGUIR EN UN SUPERMERCADO, AMAZON PIERDE, DAÑA Y EXTRAVÍA LOS ENVÍOS Y A PESAR DE ESO LOS MARCA COMO \"ENTREGADOS\". FUE MUY DIFICIL RECUPERAR MI DINERO POR QUE ESTABA MARCADO COMO ENTREGADO CUANDO NO FUE ASI...SE PIDE LA REPOSICIÓN Y MAS DE 5 HORAS EN UN CHAT POR QUE TODAVÍA NO AUTORIZAN, INEPTITUD, TORPEZA Y FALTA DE PROFESIONALISMO EN ENTREGAS TAN TONTAS COMO UN CAFÉ, ATÚN, PASTA DENTAL, JABONES ETC. UNA VERDADERA PÉRDIDA DE TIEMPO. PÉSIMO AMAZON EVITEN COMPRAR SU DESPENSA AQUI. !!.\\nUna estrella porque compre 4 y llego 1 roto y por la política de devolución pues ya me quede con 3!Mal manejo de paquete a pesar de traer etiqueta de \"fragil\".\\nEl café no es malo, pero me encontré con dos pedazos de vidrio en el contenido. Adjunto foto de uno de ellos. El otro me lo tope en la taza y lo tire. No imaginé que viniera del café hasta hoy que me puse a buscarle por que me dió pendiente saber cómo había llegado un vidrio a mi taza. :/.\\nQue procede cuando llegan rotos los frascos??.\\nQue puedo proceder a hacer si solo me llego 2 productos en lugar de las 4 que pedi?.\\nfecha de caducidad muy próxima.\\nLa fecha de caducidad ya estaba vencida.\\ncaduca en menos de un mes, mala compra.\\nNo es la presentación que está anunciada y que solicite. Enviaron la versión descafeinada.\\nTerrible experiencia.Nunca llegó mi pedido.Me sentí estafado.No me vuelve a pasar.No compren este producto.No llega.\\nTengan cuidado porque pone que es un café keto, ideal para la dieta keto y resulta que tiene azúcar y bastante!! Es publicidad engañosa.\\nLlegó con el frasco roto, obviamente no lo voy a a consumir así, podría morir. Deberían tomar en cuenta el paquete en que lo envían. Directo a la basura.\\nNo me gusto el sabor, de cremoso no tiene nada, queda muy aguado, se le tiene que poner mucho mas de lo que dice en las indicaciones para que tenga un poco de sabor pero por mas que se le ponga queda muy aguado. No me gusto absolutamente nada.\\nSu sabor es igual a un cafe comun frio , no es una infusión buena, caro y malo jamas lo volvería a comprar , el solo tomarlo redujo mi esperanza de vida a la mitad.\\nllegan caducados lastima de café.\\na la hora que abrí mi paquete me di cuenta que se había roto y se cayó todo el café.\\nNo comprar este producto porque se lo entregarán asi.\\nA mí en lo personal no me gustó el sabor pero a varios miembros de mi familia si.\\nNo te mandan descafeinadoTe mandan el normal.\\nNo enviaron el producto que pedi...se supone era descafeinado y recibí el normal.\\nLlegó en malas condiciones... no me permite devolución.\\nllegó roto hecho pedazos a quien se le ocurre mandar un frasco de vidrio en una bolsa de papel sin protección.\\nEs mi café favorito pero dejaron de surtir lo en el super. Este tiene la etiqueta diferente y nada de aroma. No se si sea clon.\\nEsta caducado.\\nLlego roto.\\nEl frasco llego quebrado.\\nEl producto llegó roto.\\nNo es tan bueno.\\nNo llego pedi reembolso.\\nNo me enviaron el producto correcto.\\nDice que es soluble pero es molido.\\nlos frascos llegaron rotos y sin sello.\\nNo se porque ofrecen un producto si entregan uno que no corresponde. Pesimo.\\nNo me gustó es muy pequeño en el súper lo ví a mitad de precio.\\nLo pedi el 6 de abril de 2020 y me llego con fecha de caducidad marzo 2020, osea ya caduco.\\nSolicité 3 frascos llegó uno quebrado y no hay devolución en este artículoAsí que compren con cuidado ya que no habrá reembolso.\\nDesafortunadamente la fecha de caducidad del café es dentro de 8 meses y tiene según la etiqueta 17 meses que salió a la venta. Digo el café esta todavía en buen estado pero no es algo que hubiera comprado de haber sabido.\\nMal sabor, no vale la pena es como si hubiera comprado cualquier cafe economico y ademas en la foto se ve, es toda la informacion de \"contacto\". Uno supone que al estar respaldado por el jugador de Futbol seria un producto de calidad. Pero mentira. No se puede devolver al ser un producto alimenticio y en general mala experiencia de cafe y no se ve la fecha ni lote por ningun lado.\\nNo me llegó.\\nSabor.\\nNo me gustó el sabor.\\nPésimo llegó echo pedazos!!! Es la segunda vez no vuelvo a comprar.\\nLlegaron rotos los frascos.\\nSabor muy dulce y requiere usar mas que otras marcas.\\nEl producto que encarge los 4 frascos de café venían completamente rotos.\\nPrecio elevado para comprar la caja, está mejor la lata de 400 gramos.\\nEl articulo es una porqueria en verdad no se por que permiten que amazon venda estos productos.\\nEl producto se irá directo a la basura, lo entregaron con la fecha de caducidad vencida por mas de 3 meses.\\nNo tiene nada que ver el producto que viene en la foto y pedí con el que me llegó. Solicitó la devolución ya que no es.\\nEvitaría comprar varios productos de vidrio , ya que se estrellan , compré este producto y llegó roto 1 frasco .Sol compren latas a esas no le pasan nada ??También compré aceites y me llegaron golpeados y a uno se le salío poco aceite .Cabe mencionar que me llegaron estos productos 3n paquetes separados.\\nEl producto llegó roto y no quisieron hacer cambio ??.\\n2 estrellas, pedí Regular y recibí Descafeinado.\\nTiene el sabor muy tenue y apenas se distingue.\\nBuen sabor pero tienes que usar un exceso para que sepa a taro.\\nNo me gustó el sabor, no se parece en nada a otros café de olla que he probado.\\nEl pedido llegó en tiempo y forma. sólo que siento que le falta mucho sabor al café , está muy ligero.\\nMe mandaron producto caducado, aun asi me lo tome y sabe bueno el maldito pero eso de mandar caducados no esta chévere.\\nEstá muy rico y todo, llegó mayugado  y lo comprendo; pero estaba sellado y llegó poco más de la mitad del producto.\\nEs un café que en relación precio calidad, es simplemente barato, sin olor a un buen café, sabor ligero y poca acidez, puedo decir que es pasable pero no excelente.\\nRealice el frappé con las proporciones recomendadas, sin embargo no sabe a taro comparado con otros productos similares, el sabor no es desagradable pero no es un producto que volvería a comprar.\\nEsperaba un sabor fuerte y un aroma profundo todo lo contrario, el sabor es muy pero muy suave al igual que el color el aroma no se percibe al mezclarlo conozco varios tipos de cafe y este me quedo a deber ni modo.\\nMe gusta mucho el café legal en su otra presentación no soluble. Pensé que este que es soluble tendría el mismo sabor y no, no me gusto, es un sabor agradable al principio pero posterior fastidia. No es lo que esperaba, no no volvería a Comprar en presentación soluble.\\nMe gustó lo que no debí de ver la presentación y el hecho que dice Orgánico.No me gustó nada del producto sabe a café viejo no tiene cuerpo sabor tienes que usar mucho producto en la taza para sentir un mejor sabor, horrible de Orgánico no tiene nada para nada lo recomendaría es un timo.\\nPor el precio que salio la compra minima de 2 cafes, hubiera comprado 1/3 mas en el super. Definitivamente me hizo falta mas revisar la relacion cantidad precio. Pague mas caro el cafe solo por no ir al super, lo cual no vale la pena porque de por si tengo que salir por otro tipo de comestibles.\\nEl café suena llamativo por el renombre que tiene a nivel nacional la parroquia sin embargo dista mucho de un café de calidad, su sabor es muy semejante al de un café común y corriente por lo cual no justifica su precio, pueden encontrar más en marcas como punta del cielo, solo Dios e inclusive en la cama Reserva de Nescafé, no lo recomiendo.\\nSoy una persona que toma el café sin azúcar y cargado sin embargo mi padre le gusta suave y super azucarado. Pensé que este seria de su agrado y me comentó que le hacía falta azúcar aun cuando ocupé 2 cucharadas copeteadas. Yo mismo lo probé, y para mí es como tomar agua con crema de esa que te dan en las tiendas como el 7/11. No lo recomiendo ya que no sabe a café, sabe a azúcar con agua.\\nLa compra estuvo bien llegó a tiempo y todo.. sin embargo el sabor dejó mucho que desear.. no me gusto :(.\\nLa tapa del café llegó rota, no cierra.\\nMuy bonita su presentación, pero me dejo mucho que desear, su sabor es malo, nada que ver con el de su cafetería.\\nNo me gusto sabe a tester choice.\\nMe fui por el precio y no revisé el gramaje son chiquitas. Ojo con las medidas en todo lo que compren.\\nPensé que sería como uno que ya ee tomado yo pero la verdad se me iso algo fuerte de canela o pilóncillo pero de ahí en fuera bien.\\nMuy pequeño para el precio.\\nEn lo personal el sabor no es tan bueno.\\nEl producto no representa el tamaño del valor contra lo que compras en el supermercado.\\nEstá bien sabroso, pero lo malo que uno llegó quebrado, se me desaparecieron las fotos no tengo como comprobarlo.\\nA pesar de anunciarse como el café insignia de la Parroquía, es un café muy convencional, aroma pobre, nada diferente al que puedas comprar en un oxxo . Terminé regalándolo.\\nPedí descafeinado y me llegó normal, me indican que no puedo devolverlo pero no me llegó bien el pedido, es la primera vez que me pasa y la verdad no es lo que esperaba por el costo.\\nQue tengan mas cuidado al empacar y al transportar lo de vidrio y liquidosor porque llegan rotos.\\nEl pedido llegó muy rápido pero el café no tiene aroma ni sabor, indica que es intenso pero se deben poner demasiadas cucharadas para tener un atisbo muy ligero de sabor. La presentación es bonita pero nada más.\\nEconómico. Pero el sabor no destaca.\\nEl tiempo de caducidad es escaso.\\nNo sabe a café de olla.\\nNo me gustó, tiene el sabor muy artificial.\\nEl sello de garantía venía abierto, no lo recomiendo.\\nUn buen producto con un buen sabor, yo lo recomiendo.\\nMe gustó un poco siento que le falta un poco de sabor.\\nMe gustó, sin embargo no ha sido el mejor que he probado.\\nSu sabor me dejó mucho que desear, esperaba más sabor y olor.\\nCuidado por que dice 85 grms pero te llega un frasco más chico.\\nLo regalé. No le gusto el sabor. Igual sigue con la dieta keto.\\nCompré 3, no se puede verificar la fecha y la caducidad es muy próxima. De solo 2 meses.\\nEn otros cafés orgánicos liofilizados me queda un agradable sabor después de terminar la taza de café, en este no.\\nVacíe el contenido de la bolsa en un frasco de nescafe de 350g y este solo se lleno a 3/4.\\nEl café llegó en buenas condiciones sin daño, pero el sabor no el mejor café, muy suave en aroma y sabor.\\nNo destaca para nada en el lado positivo. Creo que hasta uno del OXXO sabe mejor. Le noto mucho sabor artificial.\\nEl café sabe bien, sólo que tiene un sabor ligero a pesar de ser \"espresso\" y es demasiado costoso para el sabor.\\nMe fui con la finta y el tamaño es muy pequeño a comparación de la imagen. El sabor no fue lo que esperaba.\\nNo me gustó, usando la cantidad recomendada queda aguado el café con leche. Definitivamente no se puede comparar con un rato café con leche.\\nEs bueno, pero no es notable, el sabor no justifica el precio, esperabamos un sabor mas intenso digamos menos... comercial, no se acerca a lo que venden en sus locales.\\nEs muy bueno, lo malo que me genera desconfianza ya que los 2 que pedí traen los sellos abiertos y no lo puedes regresar.Es un buen producto, solo esa detalle.\\nEl café soluble se me hace practico y he estado buscando un buen café con un sabor que me agrade, este no es el café para mi, se me hace desabrido, sin sabor.\\nEl precio es muy bueno aunque el café en el frasco tiene un pronunciado olor a éter y al diluirlo casi desaparece por completo. En lo personal me quedo con la versión roja.\\nHonestamente esperaba más de este producto, es lo mismo que el llamado Dolca canela, ojalá lo hubiera superado pero  no fue así según mi gusto.Afortunadamente compré el de 46g así que no fue gran pérdida.\\nVacié la bolsa en un bote con capacidad de 440 gr, y pensé que iba quedar muy poco espacio, y no, el bote quedó cubierto prácticamente a la mitad. Entonces, estoy dudado muchísimo si contiene el grame real.\\nNo me gusto mucho el sabor del café y el precio fue algo alto después de probarlo. Busquen otra opción.El sabor fue muy ligero a mí me gustan sabores fuertes y con cuerpo y este se sentía muy ligero y no muy bien tostado.\\nle pongo 3 estrellas no por el vendedor ni por Amazon. solo que  sabe diferente a la versión de 100 gramos en envase de vidrio. y es el mismo nescafe. no me arrepiento de comprarlo pero quería mencionar lo del sabor distinto. sabe mucho mas fuerte.\\nMe llamó la atención el precio del producto, para la prestación de 205 gramos, es el mismo que en una tienda de autoservicio, solo que llega a tu casa sin ningún costo adicional.Respecto al producto, creo que está muy suave,  yo prefiero algo mas fuerte, pero hay mucha gente a la que le da igual, si es tu caso, es una buena opción.\\nhay mejores cafes, pero tambien hay peores...un sabor bastante mmmñhee!.\\nNo lo compro de nuevo, ocupas dos cucharadas para que de sabor a algo, el producto si lo comparas con nescafe de 600g nada que ver, rinde mucho menos y es mas compacto el producto, no tiene buen sabor, sabe mejor el cafe de olla del seven en mexico (version temporal).\\nEl producto tiene buen sabor, la presentación es muy bonita, el problema con la compra fue que uno de los 2 cafés llegó roto, no es culpa del fabricante sino de la empresa transportista, igual de haber llegado entero, hubiera puesto 4 estrellas, es un buen café, ideal si uno busca un cafecito diario por la mañana :).\\nTiene un sabor a olla.\\nen realidad, me supo igual jaja.\\nNo tiene aroma ni sabor a pesar de su marca.\\nSolo me llego uno de dos ?? que mala onda todo iba muy bien hasta ahora.\\nPense que era para cafetera, no tiene mucho sabor a cafe y es soluble, para el costo no vale la pena.\\nNo sabe a café de olla tradicional, sabe muchísimo a canela, lo que yo hago es poner solo un poco y con eso tengo para tener un buen sabor de café con canela.\\nBuen sabor, no se disuelve totalmente con facilidad.\\nPodrían mejorar el precio .se necesita poco más de lo indicado para que tenga buen sabor el smotthie.\\nPor el precio esta mas que bien pero es decepcionante el sabor, definitivamente no tiene comparación al rojo, pero solo así se aprende.\\nMuy simple, cómo tomar un Nescafé.\\nEsta bien.\\nEsperaba mas, bonita presentación pero el sabor y aroma pues dejan que desear. Los pedidos llegaron bien.\\nMuy bueno.\\nMuy rico.\\nEs muy bueno.\\nBuen sabor y producto.\\nBien a secas nada del otro mundo.\\nCasi no tiene sabor, esperaba que fuera más rico.\\nNo me agrado mucho el sabor, prefiero el clásico.\\nEl café excelenteEl sabor de siempre muy buenoEl precio muy bienSólo que la envoltura del envío llego muy maltratado.\\nSin embargo, viene con muy poco tiempo de vida, pues el envase marca fecha de caducidad para octubre de este año.\\nNo me gustó.\\nBuen sabor.\\nBastante amargo, pero buen sabor.\\nEn relación calidad precio esta bien solo no esperes un gran café esta entre la media de cafés solubles.\\nEl café me llegó sin sello de plástico y no indica caducidad...aún así moría por probarlo...al girar la rosca se jalo la tapa de cartoncillo así que ya no sé si estaba abierto antes ya que no tiene mucho olor y saber más o menos. No sé si devolverlo!??.\\n'"
      ]
     },
     "execution_count": 17,
     "metadata": {},
     "output_type": "execute_result"
    }
   ],
   "source": [
    "documents[7]"
   ]
  },
  {
   "cell_type": "code",
   "execution_count": null,
   "metadata": {},
   "outputs": [],
   "source": []
  }
 ],
 "metadata": {
  "kernelspec": {
   "display_name": "Python 3",
   "language": "python",
   "name": "python3"
  },
  "language_info": {
   "codemirror_mode": {
    "name": "ipython",
    "version": 3
   },
   "file_extension": ".py",
   "mimetype": "text/x-python",
   "name": "python",
   "nbconvert_exporter": "python",
   "pygments_lexer": "ipython3",
   "version": "3.7.6"
  }
 },
 "nbformat": 4,
 "nbformat_minor": 4
}
